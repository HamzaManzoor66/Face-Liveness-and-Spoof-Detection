{
  "nbformat": 4,
  "nbformat_minor": 0,
  "metadata": {
    "colab": {
      "name": "json_to_csv.ipynb",
      "provenance": []
    },
    "kernelspec": {
      "name": "python3",
      "display_name": "Python 3"
    },
    "language_info": {
      "name": "python"
    }
  },
  "cells": [
    {
      "cell_type": "code",
      "source": [
        "import pandas as pd\n",
        "\n",
        "with open('test_label.json', encoding='utf-8') as inputfile:\n",
        "    df = pd.read_json(inputfile)\n",
        "\n",
        "df.to_csv('test_metaData.csv', encoding='utf-8', index=False)"
      ],
      "metadata": {
        "id": "sOFQPCy9nSYB"
      },
      "execution_count": 4,
      "outputs": []
    }
  ]
}