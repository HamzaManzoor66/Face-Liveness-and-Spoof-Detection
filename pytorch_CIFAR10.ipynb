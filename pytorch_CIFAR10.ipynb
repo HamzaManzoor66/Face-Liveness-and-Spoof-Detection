{
  "nbformat": 4,
  "nbformat_minor": 0,
  "metadata": {
    "colab": {
      "name": "pytorch_CIFAR10.ipynb",
      "provenance": [],
      "collapsed_sections": []
    },
    "kernelspec": {
      "name": "python3",
      "display_name": "Python 3"
    },
    "language_info": {
      "name": "python"
    },
    "accelerator": "GPU",
    "gpuClass": "standard"
  },
  "cells": [
    {
      "cell_type": "code",
      "execution_count": 1,
      "metadata": {
        "id": "kk9qwvaxH6Y0"
      },
      "outputs": [],
      "source": [
        "# Imports\n",
        "import torch\n",
        "import torchvision # torch package for vision related things\n",
        "import torch.nn.functional as F  # Parameterless functions, like (some) activation functions\n",
        "import torchvision.datasets as datasets  # Standard datasets\n",
        "import torchvision.transforms as transforms  # Transformations we can perform on our dataset for augmentation\n",
        "from torch import optim  # For optimizers like SGD, Adam, etc.\n",
        "from torch import nn  # All neural network modules\n",
        "from torch.utils.data import DataLoader  # Gives easier dataset managment by creating mini batches etc.\n",
        "from tqdm import tqdm  # For nice progress bar!\n"
      ]
    },
    {
      "cell_type": "code",
      "source": [
        "class CNN(nn.Module):\n",
        "  def __init__(self,in_channels=3,num_classes=10):\n",
        "    super(CNN,self).__init__()\n",
        "    self.conv1 = nn.Conv2d(\n",
        "        in_channels=in_channels,\n",
        "        out_channels=12,\n",
        "        kernel_size=(3,3),\n",
        "        stride=(1,1),\n",
        "        padding=(1,1),\n",
        "    )\n",
        "    self.pool = nn.MaxPool2d(kernel_size=(2,2),stride=(2,2))\n",
        "    self.conv2 = nn.Conv2d(\n",
        "        in_channels=12,\n",
        "        out_channels=24,\n",
        "        kernel_size=(3,3),\n",
        "        stride=(1,1),\n",
        "        padding=(1,1),\n",
        "    )\n",
        "    self.conv3 = nn.Conv2d(\n",
        "        in_channels=24,\n",
        "        out_channels=36,\n",
        "        kernel_size=(3,3),\n",
        "        stride=(1,1),\n",
        "        padding=(1,1),\n",
        "    )\n",
        "    self.fc1 = nn.Linear(36*4*4, num_classes)\n",
        "\n",
        "  def forward(self,x):\n",
        "    # print(\"x.shape0: \",x.shape)\n",
        "    x= F.relu(self.conv1(x))\n",
        "    x=self.pool(x)\n",
        "    # print(\"x.shape1: \",x.shape)\n",
        "    x=F.relu(self.conv2(x))\n",
        "    x=self.pool(x)\n",
        "    # print(\"x.shape2: \",x.shape)\n",
        "    x=F.relu(self.conv3(x))\n",
        "    x=self.pool(x)\n",
        "    # print(\"x.shape3: \",x.shape)\n",
        "    x=x.reshape(x.shape[0],-1)\n",
        "    x=self.fc1(x)\n",
        "    return x\n",
        "\n",
        "\n",
        "\n",
        "\n",
        "\n",
        "#setDevice\n",
        "device = torch.device(\"cuda\" if torch.cuda.is_available() else \"cpu\")\n",
        "\n",
        "#hyperParameters\n",
        "\n",
        "in_channels=3\n",
        "num_classes=10\n",
        "learning_rate=0.001\n",
        "batch_size=100\n",
        "num_epochs=10\n",
        "\n",
        "\n",
        "#LoadData\n",
        "\n",
        "train_dataset=datasets.CIFAR10(root=\"datasets/\",train=True,transform= transforms.ToTensor(),download=True)\n",
        "test_dataset=datasets.CIFAR10(root=\"datasets/\",train=False,transform= transforms.ToTensor(),download=True)\n",
        "train_loader= DataLoader(dataset=train_dataset,batch_size=batch_size,shuffle=True)\n",
        "test_loader= DataLoader(dataset=test_dataset,batch_size=batch_size,shuffle=True)\n",
        "\n",
        "#initialize network\n",
        "\n",
        "model = CNN(in_channels=in_channels,num_classes=num_classes).to(device)\n",
        "\n",
        "#loss and optimizer\n",
        "\n",
        "criterion = nn.CrossEntropyLoss()\n",
        "optimizer = optim.Adam(model.parameters(),lr=learning_rate)\n",
        "\n",
        "#Training\n",
        "\n",
        "for epoch in range(num_epochs):\n",
        "  for batch_idx, (data,targets) in enumerate(tqdm(train_loader)):\n",
        "    #get data to cuda if possible\n",
        "    data = data.to(device)\n",
        "    targets = targets.to(device)\n",
        "\n",
        "    #forward\n",
        "\n",
        "    scores=model(data)\n",
        "    loss = criterion(scores,targets)\n",
        "\n",
        "    #backward\n",
        "\n",
        "    optimizer.zero_grad()\n",
        "    loss.backward()\n",
        "\n",
        "    #gradient descent or adam step\n",
        "    optimizer.step()\n",
        "\n",
        "#Check accuracy on training and test to see how good our model is\n",
        "\n",
        "def check_accuracy(loader,model):\n",
        "  num_correct = 0\n",
        "  num_samples = 0\n",
        "  model.eval()\n",
        "\n",
        "  with torch.no_grad():\n",
        "    for x,y in loader:\n",
        "      x = x.to(device=device)\n",
        "      y = y.to(device=device)\n",
        "\n",
        "      scores = model(x)\n",
        "      test, predictions = scores.max(1)\n",
        "      num_correct += (predictions==y).sum()\n",
        "      num_samples += predictions.size(0)\n",
        "\n",
        "\n",
        "  model.train()\n",
        "  return num_correct/num_samples\n",
        "\n",
        "print(f\"Accuracy on training set: {check_accuracy(train_loader, model)*100:.2f}\")\n",
        "print(f\"Accuracy on test set: {check_accuracy(test_loader, model)*100:.2f}\")\n"
      ],
      "metadata": {
        "colab": {
          "base_uri": "https://localhost:8080/"
        },
        "id": "CeCCCCpfN5N0",
        "outputId": "0d2e7d1f-df04-4a51-c735-df6cfcd5830c"
      },
      "execution_count": 17,
      "outputs": [
        {
          "output_type": "stream",
          "name": "stdout",
          "text": [
            "Files already downloaded and verified\n",
            "Files already downloaded and verified\n"
          ]
        },
        {
          "output_type": "stream",
          "name": "stderr",
          "text": [
            "100%|██████████| 500/500 [00:06<00:00, 72.03it/s]\n",
            "100%|██████████| 500/500 [00:06<00:00, 71.73it/s]\n",
            "100%|██████████| 500/500 [00:07<00:00, 65.76it/s]\n",
            "100%|██████████| 500/500 [00:06<00:00, 72.20it/s]\n",
            "100%|██████████| 500/500 [00:06<00:00, 72.05it/s]\n",
            "100%|██████████| 500/500 [00:07<00:00, 70.90it/s]\n",
            "100%|██████████| 500/500 [00:07<00:00, 70.17it/s]\n",
            "100%|██████████| 500/500 [00:07<00:00, 71.06it/s]\n",
            "100%|██████████| 500/500 [00:06<00:00, 71.78it/s]\n",
            "100%|██████████| 500/500 [00:07<00:00, 70.52it/s]\n"
          ]
        },
        {
          "output_type": "stream",
          "name": "stdout",
          "text": [
            "Accuracy on training set: 66.45\n",
            "Accuracy on test set: 64.34\n"
          ]
        }
      ]
    }
  ]
}