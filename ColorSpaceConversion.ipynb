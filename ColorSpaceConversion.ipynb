{
  "nbformat": 4,
  "nbformat_minor": 0,
  "metadata": {
    "colab": {
      "name": "ColorConversion.ipynb",
      "provenance": [],
      "collapsed_sections": []
    },
    "kernelspec": {
      "name": "python3",
      "display_name": "Python 3"
    },
    "language_info": {
      "name": "python"
    }
  },
  "cells": [
    {
      "cell_type": "code",
      "source": [
        "from PIL import Image\n",
        "import cv2\n",
        "from google.colab.patches import cv2_imshow"
      ],
      "metadata": {
        "id": "X21e2dyK6Ezl"
      },
      "execution_count": null,
      "outputs": []
    },
    {
      "cell_type": "code",
      "execution_count": null,
      "metadata": {
        "id": "G0LabJfOcIbe"
      },
      "outputs": [],
      "source": [
        "def rgb_to_hsv(r, g, b):\n",
        "\tr, g, b = r / 255.0, g / 255.0, b / 255.0\n",
        "\n",
        "\tcmax = max(r, g, b) \n",
        "\tcmin = min(r, g, b) \n",
        "\tdiff = cmax-cmin\n",
        "\n",
        "\tif cmax == cmin:\n",
        "\t\th = 0\n",
        "\t\n",
        "\telif cmax == r:\n",
        "\t\th = (60 * ((g - b) / diff) + 360) % 360\n",
        "\n",
        "\telif cmax == g:\n",
        "\t\th = (60 * ((b - r) / diff) + 120) % 360\n",
        "\n",
        "\telif cmax == b:\n",
        "\t\th = (60 * ((r - g) / diff) + 240) % 360\n",
        "\n",
        "\tif cmax == 0:\n",
        "\t\ts = 0\n",
        "\telse:\n",
        "\t\ts = (diff / cmax) * 100\n",
        "\n",
        "\tv = cmax * 100\n",
        "\treturn h, s, v\n",
        "\n",
        "\n",
        "im = Image.open('sample1.jpg') \n",
        "# pix = im.load()\n",
        "rgb_pixel_value =im.getpixel((10,15))\n",
        "r,g,b=rgb_pixel_value\n",
        "print(rgb_pixel_value)\n",
        "print(rgb_to_hsv(r, g, b))\n"
      ]
    },
    {
      "cell_type": "code",
      "source": [
        "\n",
        "# image = cv2.imread('C:/Users/N/Desktop/Test.jpg')\n",
        "image = cv2.imread('sample1.jpg')\n",
        "hsvImage = cv2.cvtColor(image, cv2.COLOR_BGR2HSV)\n",
        " \n",
        "cv2_imshow(image)\n",
        "cv2_imshow(hsvImage)\n",
        "   \n",
        "# cv2.waitKey(0)\n",
        "# cv2.destroyAllWindows()"
      ],
      "metadata": {
        "id": "hguaUR5O6Hbp"
      },
      "execution_count": null,
      "outputs": []
    },
    {
      "cell_type": "code",
      "source": [
        "\n",
        "# image = cv2.imread('C:/Users/N/Desktop/Test.jpg')\n",
        "image = cv2.imread('sample1.jpg')\n",
        "labImage = cv2.cvtColor(image, cv2.COLOR_BGR2LAB)\n",
        " \n",
        "cv2_imshow(image)\n",
        "cv2_imshow(labImage)\n",
        "   \n",
        "# cv2.waitKey(0)\n",
        "# cv2.destroyAllWindows()"
      ],
      "metadata": {
        "id": "xzV6g10v6K3p"
      },
      "execution_count": null,
      "outputs": []
    },
    {
      "cell_type": "code",
      "source": [
        "image = cv2.imread('t1.jpg')\n",
        "hsvImage = cv2.cvtColor(image, cv2.COLOR_BGR2HSV)\n",
        "labImage = cv2.cvtColor(image, cv2.COLOR_BGR2LAB)\n",
        " \n",
        "cv2_imshow(image)\n",
        "cv2_imshow(hsvImage)\n",
        "cv2_imshow(labImage)"
      ],
      "metadata": {
        "id": "kGR53RbU6Rk5"
      },
      "execution_count": null,
      "outputs": []
    }
  ]
}